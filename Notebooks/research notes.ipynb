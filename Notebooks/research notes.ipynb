{
 "cells": [
  {
   "cell_type": "markdown",
   "id": "216b3a8f",
   "metadata": {},
   "source": [
    "Goal: Using double-peaked light curves to constrain properties of the progenitor system such as mass and radius of envelope."
   ]
  },
  {
   "cell_type": "markdown",
   "id": "56c35297",
   "metadata": {},
   "source": [
    "### Piro 2015 (https://iopscience.iop.org/article/10.1088/2041-8205/808/2/L51/pdf)"
   ]
  },
  {
   "cell_type": "markdown",
   "id": "1bfa1278",
   "metadata": {},
   "source": []
  },
  {
   "cell_type": "code",
   "execution_count": null,
   "id": "99af8536",
   "metadata": {},
   "outputs": [],
   "source": []
  },
  {
   "cell_type": "code",
   "execution_count": null,
   "id": "da38673b",
   "metadata": {},
   "outputs": [],
   "source": []
  },
  {
   "cell_type": "code",
   "execution_count": null,
   "id": "771e49eb",
   "metadata": {},
   "outputs": [],
   "source": []
  }
 ],
 "metadata": {
  "kernelspec": {
   "display_name": "Python 3 (ipykernel)",
   "language": "python",
   "name": "python3"
  },
  "language_info": {
   "codemirror_mode": {
    "name": "ipython",
    "version": 3
   },
   "file_extension": ".py",
   "mimetype": "text/x-python",
   "name": "python",
   "nbconvert_exporter": "python",
   "pygments_lexer": "ipython3",
   "version": "3.9.12"
  }
 },
 "nbformat": 4,
 "nbformat_minor": 5
}
